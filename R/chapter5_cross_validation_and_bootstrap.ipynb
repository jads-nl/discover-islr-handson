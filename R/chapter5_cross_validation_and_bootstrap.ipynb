{
  "nbformat": 4,
  "nbformat_minor": 0,
  "metadata": {
    "colab": {
      "name": "chapter5-cross-validation-and-bootstrap.ipynb",
      "provenance": [],
      "authorship_tag": "ABX9TyOcPVikUfp+cBwvBlnIWECt",
      "include_colab_link": true
    },
    "kernelspec": {
      "name": "ir",
      "display_name": "R"
    }
  },
  "cells": [
    {
      "cell_type": "markdown",
      "metadata": {
        "id": "view-in-github",
        "colab_type": "text"
      },
      "source": [
        "<a href=\"https://colab.research.google.com/github/jads-nl/discover-islr-handson/blob/master/R/chapter5_cross_validation_and_bootstrap.ipynb\" target=\"_parent\"><img src=\"https://colab.research.google.com/assets/colab-badge.svg\" alt=\"Open In Colab\"/></a>"
      ]
    },
    {
      "cell_type": "code",
      "metadata": {
        "id": "3XWyDklc8SqJ",
        "outputId": "81e436e5-470d-4cd0-f293-84177ad99aa2",
        "colab": {
          "base_uri": "https://localhost:8080/"
        }
      },
      "source": [
        "# Chaper 5 Lab: Cross-Validation and the Bootstrap\n",
        "\n",
        "# The Validation Set Approach\n",
        "\n",
        "install.packages(\"ISLR\")\n",
        "library(ISLR)\n",
        "set.seed(1)\n",
        "train=sample(392,196)\n",
        "lm.fit=lm(mpg~horsepower,data=Auto,subset=train)"
      ],
      "execution_count": 2,
      "outputs": [
        {
          "output_type": "stream",
          "text": [
            "Installing package into ‘/usr/local/lib/R/site-library’\n",
            "(as ‘lib’ is unspecified)\n",
            "\n"
          ],
          "name": "stderr"
        }
      ]
    },
    {
      "cell_type": "code",
      "metadata": {
        "id": "5BKAclbZ8tCc",
        "outputId": "0d7bf49e-060c-49d9-9899-343b2f711cb8",
        "colab": {
          "base_uri": "https://localhost:8080/",
          "height": 34
        }
      },
      "source": [
        "attach(Auto)\n",
        "mean((mpg-predict(lm.fit,Auto))[-train]^2)"
      ],
      "execution_count": 3,
      "outputs": [
        {
          "output_type": "display_data",
          "data": {
            "text/plain": [
              "[1] 23.26601"
            ],
            "text/latex": "23.2660086465003",
            "text/markdown": "23.2660086465003",
            "text/html": [
              "23.2660086465003"
            ]
          },
          "metadata": {
            "tags": []
          }
        }
      ]
    },
    {
      "cell_type": "code",
      "metadata": {
        "id": "M1mxHAOk8xgK",
        "outputId": "cff83960-0551-4d1c-a719-bbcd0b2f02c3",
        "colab": {
          "base_uri": "https://localhost:8080/",
          "height": 34
        }
      },
      "source": [
        "lm.fit2=lm(mpg~poly(horsepower,2),data=Auto,subset=train)\n",
        "mean((mpg-predict(lm.fit2,Auto))[-train]^2)"
      ],
      "execution_count": 4,
      "outputs": [
        {
          "output_type": "display_data",
          "data": {
            "text/plain": [
              "[1] 18.71646"
            ],
            "text/latex": "18.7164594933828",
            "text/markdown": "18.7164594933828",
            "text/html": [
              "18.7164594933828"
            ]
          },
          "metadata": {
            "tags": []
          }
        }
      ]
    },
    {
      "cell_type": "code",
      "metadata": {
        "id": "QpKneacG81hm",
        "outputId": "13a25ae8-caf1-4275-ef40-68aa4ce27ab9",
        "colab": {
          "base_uri": "https://localhost:8080/",
          "height": 34
        }
      },
      "source": [
        "lm.fit3=lm(mpg~poly(horsepower,3),data=Auto,subset=train)\n",
        "mean((mpg-predict(lm.fit3,Auto))[-train]^2)"
      ],
      "execution_count": 5,
      "outputs": [
        {
          "output_type": "display_data",
          "data": {
            "text/plain": [
              "[1] 18.79401"
            ],
            "text/latex": "18.7940067973945",
            "text/markdown": "18.7940067973945",
            "text/html": [
              "18.7940067973945"
            ]
          },
          "metadata": {
            "tags": []
          }
        }
      ]
    },
    {
      "cell_type": "code",
      "metadata": {
        "id": "HiEjiGAc87JU",
        "outputId": "acab1bc2-f28e-4c9f-90fe-bd1828dbed96",
        "colab": {
          "base_uri": "https://localhost:8080/",
          "height": 34
        }
      },
      "source": [
        "set.seed(2)\n",
        "train=sample(392,196)\n",
        "lm.fit=lm(mpg~horsepower,subset=train)\n",
        "mean((mpg-predict(lm.fit,Auto))[-train]^2)"
      ],
      "execution_count": 6,
      "outputs": [
        {
          "output_type": "display_data",
          "data": {
            "text/plain": [
              "[1] 25.72651"
            ],
            "text/latex": "25.7265106448139",
            "text/markdown": "25.7265106448139",
            "text/html": [
              "25.7265106448139"
            ]
          },
          "metadata": {
            "tags": []
          }
        }
      ]
    },
    {
      "cell_type": "code",
      "metadata": {
        "id": "hCPiV8SR8945",
        "outputId": "a27ae2da-354c-4f79-a604-abffa4f00398",
        "colab": {
          "base_uri": "https://localhost:8080/",
          "height": 34
        }
      },
      "source": [
        "lm.fit2=lm(mpg~poly(horsepower,2),data=Auto,subset=train)\n",
        "mean((mpg-predict(lm.fit2,Auto))[-train]^2)"
      ],
      "execution_count": 7,
      "outputs": [
        {
          "output_type": "display_data",
          "data": {
            "text/plain": [
              "[1] 20.43036"
            ],
            "text/latex": "20.4303642741463",
            "text/markdown": "20.4303642741463",
            "text/html": [
              "20.4303642741463"
            ]
          },
          "metadata": {
            "tags": []
          }
        }
      ]
    },
    {
      "cell_type": "code",
      "metadata": {
        "id": "h1RnGMmr9CFC",
        "outputId": "8b6681b0-f05b-4789-cf37-74ad305e9b3b",
        "colab": {
          "base_uri": "https://localhost:8080/",
          "height": 34
        }
      },
      "source": [
        "lm.fit3=lm(mpg~poly(horsepower,3),data=Auto,subset=train)\n",
        "mean((mpg-predict(lm.fit3,Auto))[-train]^2)"
      ],
      "execution_count": 8,
      "outputs": [
        {
          "output_type": "display_data",
          "data": {
            "text/plain": [
              "[1] 20.38533"
            ],
            "text/latex": "20.3853268638776",
            "text/markdown": "20.3853268638776",
            "text/html": [
              "20.3853268638776"
            ]
          },
          "metadata": {
            "tags": []
          }
        }
      ]
    },
    {
      "cell_type": "code",
      "metadata": {
        "id": "2eoKHwXT9HXx",
        "outputId": "be4a98a2-5fa1-4f5d-d362-fc04acf1e1f5",
        "colab": {
          "base_uri": "https://localhost:8080/",
          "height": 85
        }
      },
      "source": [
        "# Leave-One-Out Cross-Validation\n",
        "\n",
        "glm.fit=glm(mpg~horsepower,data=Auto)\n",
        "coef(glm.fit)\n",
        "lm.fit=lm(mpg~horsepower,data=Auto)\n",
        "coef(lm.fit)\n",
        "library(boot)\n",
        "glm.fit=glm(mpg~horsepower,data=Auto)\n",
        "cv.err=cv.glm(Auto,glm.fit)\n",
        "cv.err$delta\n",
        "cv.error=rep(0,5)\n",
        "for (i in 1:5){\n",
        " glm.fit=glm(mpg~poly(horsepower,i),data=Auto)\n",
        " cv.error[i]=cv.glm(Auto,glm.fit)$delta[1]\n",
        " }\n",
        "cv.error"
      ],
      "execution_count": 9,
      "outputs": [
        {
          "output_type": "display_data",
          "data": {
            "text/plain": [
              "(Intercept)  horsepower \n",
              " 39.9358610  -0.1578447 "
            ],
            "text/latex": "\\begin{description*}\n\\item[(Intercept)] 39.9358610211705\n\\item[horsepower] -0.157844733353654\n\\end{description*}\n",
            "text/markdown": "(Intercept)\n:   39.9358610211705horsepower\n:   -0.157844733353654\n\n",
            "text/html": [
              "<style>\n",
              ".dl-inline {width: auto; margin:0; padding: 0}\n",
              ".dl-inline>dt, .dl-inline>dd {float: none; width: auto; display: inline-block}\n",
              ".dl-inline>dt::after {content: \":\\0020\"; padding-right: .5ex}\n",
              ".dl-inline>dt:not(:first-of-type) {padding-left: .5ex}\n",
              "</style><dl class=dl-inline><dt>(Intercept)</dt><dd>39.9358610211705</dd><dt>horsepower</dt><dd>-0.157844733353654</dd></dl>\n"
            ]
          },
          "metadata": {
            "tags": []
          }
        },
        {
          "output_type": "display_data",
          "data": {
            "text/plain": [
              "(Intercept)  horsepower \n",
              " 39.9358610  -0.1578447 "
            ],
            "text/latex": "\\begin{description*}\n\\item[(Intercept)] 39.9358610211705\n\\item[horsepower] -0.157844733353654\n\\end{description*}\n",
            "text/markdown": "(Intercept)\n:   39.9358610211705horsepower\n:   -0.157844733353654\n\n",
            "text/html": [
              "<style>\n",
              ".dl-inline {width: auto; margin:0; padding: 0}\n",
              ".dl-inline>dt, .dl-inline>dd {float: none; width: auto; display: inline-block}\n",
              ".dl-inline>dt::after {content: \":\\0020\"; padding-right: .5ex}\n",
              ".dl-inline>dt:not(:first-of-type) {padding-left: .5ex}\n",
              "</style><dl class=dl-inline><dt>(Intercept)</dt><dd>39.9358610211705</dd><dt>horsepower</dt><dd>-0.157844733353654</dd></dl>\n"
            ]
          },
          "metadata": {
            "tags": []
          }
        },
        {
          "output_type": "display_data",
          "data": {
            "text/plain": [
              "[1] 24.23151 24.23114"
            ],
            "text/latex": "\\begin{enumerate*}\n\\item 24.2315135179292\n\\item 24.2311440937561\n\\end{enumerate*}\n",
            "text/markdown": "1. 24.2315135179292\n2. 24.2311440937561\n\n\n",
            "text/html": [
              "<style>\n",
              ".list-inline {list-style: none; margin:0; padding: 0}\n",
              ".list-inline>li {display: inline-block}\n",
              ".list-inline>li:not(:last-child)::after {content: \"\\00b7\"; padding: 0 .5ex}\n",
              "</style>\n",
              "<ol class=list-inline><li>24.2315135179292</li><li>24.2311440937561</li></ol>\n"
            ]
          },
          "metadata": {
            "tags": []
          }
        },
        {
          "output_type": "display_data",
          "data": {
            "text/plain": [
              "[1] 24.23151 19.24821 19.33498 19.42443 19.03321"
            ],
            "text/latex": "\\begin{enumerate*}\n\\item 24.2315135179292\n\\item 19.2482131244897\n\\item 19.3349840640291\n\\item 19.4244303104302\n\\item 19.0332138547041\n\\end{enumerate*}\n",
            "text/markdown": "1. 24.2315135179292\n2. 19.2482131244897\n3. 19.3349840640291\n4. 19.4244303104302\n5. 19.0332138547041\n\n\n",
            "text/html": [
              "<style>\n",
              ".list-inline {list-style: none; margin:0; padding: 0}\n",
              ".list-inline>li {display: inline-block}\n",
              ".list-inline>li:not(:last-child)::after {content: \"\\00b7\"; padding: 0 .5ex}\n",
              "</style>\n",
              "<ol class=list-inline><li>24.2315135179292</li><li>19.2482131244897</li><li>19.3349840640291</li><li>19.4244303104302</li><li>19.0332138547041</li></ol>\n"
            ]
          },
          "metadata": {
            "tags": []
          }
        }
      ]
    },
    {
      "cell_type": "code",
      "metadata": {
        "id": "Wu_84YGd9NA0",
        "outputId": "5b1b7728-7ecb-4c9c-f876-dbee764abfd1",
        "colab": {
          "base_uri": "https://localhost:8080/",
          "height": 34
        }
      },
      "source": [
        "# k-Fold Cross-Validation\n",
        "\n",
        "set.seed(17)\n",
        "cv.error.10=rep(0,10)\n",
        "for (i in 1:10){\n",
        " glm.fit=glm(mpg~poly(horsepower,i),data=Auto)\n",
        " cv.error.10[i]=cv.glm(Auto,glm.fit,K=10)$delta[1]\n",
        " }\n",
        "cv.error.10"
      ],
      "execution_count": 10,
      "outputs": [
        {
          "output_type": "display_data",
          "data": {
            "text/plain": [
              " [1] 24.27207 19.26909 19.34805 19.29496 19.03198 18.89781 19.12061 19.14666\n",
              " [9] 18.87013 20.95520"
            ],
            "text/latex": "\\begin{enumerate*}\n\\item 24.2720671232254\n\\item 19.2690928085129\n\\item 19.3480535605547\n\\item 19.2949648229745\n\\item 19.0319790002896\n\\item 18.8978121056401\n\\item 19.1206066690695\n\\item 19.1466631054789\n\\item 18.8701307442148\n\\item 20.9552042280394\n\\end{enumerate*}\n",
            "text/markdown": "1. 24.2720671232254\n2. 19.2690928085129\n3. 19.3480535605547\n4. 19.2949648229745\n5. 19.0319790002896\n6. 18.8978121056401\n7. 19.1206066690695\n8. 19.1466631054789\n9. 18.8701307442148\n10. 20.9552042280394\n\n\n",
            "text/html": [
              "<style>\n",
              ".list-inline {list-style: none; margin:0; padding: 0}\n",
              ".list-inline>li {display: inline-block}\n",
              ".list-inline>li:not(:last-child)::after {content: \"\\00b7\"; padding: 0 .5ex}\n",
              "</style>\n",
              "<ol class=list-inline><li>24.2720671232254</li><li>19.2690928085129</li><li>19.3480535605547</li><li>19.2949648229745</li><li>19.0319790002896</li><li>18.8978121056401</li><li>19.1206066690695</li><li>19.1466631054789</li><li>18.8701307442148</li><li>20.9552042280394</li></ol>\n"
            ]
          },
          "metadata": {
            "tags": []
          }
        }
      ]
    },
    {
      "cell_type": "code",
      "metadata": {
        "id": "eeSLUgA69Qco",
        "outputId": "981e664c-e226-4768-8d21-4bd08ffdcc61",
        "colab": {
          "base_uri": "https://localhost:8080/",
          "height": 238
        }
      },
      "source": [
        "# The Bootstrap\n",
        "\n",
        "alpha.fn=function(data,index){\n",
        " X=data$X[index]\n",
        " Y=data$Y[index]\n",
        " return((var(Y)-cov(X,Y))/(var(X)+var(Y)-2*cov(X,Y)))\n",
        " }\n",
        "alpha.fn(Portfolio,1:100)\n",
        "set.seed(1)\n",
        "alpha.fn(Portfolio,sample(100,100,replace=T))\n",
        "boot(Portfolio,alpha.fn,R=1000)"
      ],
      "execution_count": 11,
      "outputs": [
        {
          "output_type": "display_data",
          "data": {
            "text/plain": [
              "[1] 0.5758321"
            ],
            "text/latex": "0.57583207459283",
            "text/markdown": "0.57583207459283",
            "text/html": [
              "0.57583207459283"
            ]
          },
          "metadata": {
            "tags": []
          }
        },
        {
          "output_type": "display_data",
          "data": {
            "text/plain": [
              "[1] 0.7368375"
            ],
            "text/latex": "0.736837501928544",
            "text/markdown": "0.736837501928544",
            "text/html": [
              "0.736837501928544"
            ]
          },
          "metadata": {
            "tags": []
          }
        },
        {
          "output_type": "display_data",
          "data": {
            "text/plain": [
              "\n",
              "ORDINARY NONPARAMETRIC BOOTSTRAP\n",
              "\n",
              "\n",
              "Call:\n",
              "boot(data = Portfolio, statistic = alpha.fn, R = 1000)\n",
              "\n",
              "\n",
              "Bootstrap Statistics :\n",
              "     original       bias    std. error\n",
              "t1* 0.5758321 -0.001695873  0.09366347"
            ]
          },
          "metadata": {
            "tags": []
          }
        }
      ]
    },
    {
      "cell_type": "code",
      "metadata": {
        "id": "WeqZKdB78OJZ",
        "outputId": "59294e24-9914-45f0-f408-5fa0cf139370",
        "colab": {
          "base_uri": "https://localhost:8080/",
          "height": 678
        }
      },
      "source": [
        "# Estimating the Accuracy of a Linear Regression Model\n",
        "\n",
        "boot.fn=function(data,index)\n",
        " return(coef(lm(mpg~horsepower,data=data,subset=index)))\n",
        "boot.fn(Auto,1:392)\n",
        "set.seed(1)\n",
        "boot.fn(Auto,sample(392,392,replace=T))\n",
        "boot.fn(Auto,sample(392,392,replace=T))\n",
        "boot(Auto,boot.fn,1000)\n",
        "summary(lm(mpg~horsepower,data=Auto))$coef\n",
        "boot.fn=function(data,index)\n",
        " coefficients(lm(mpg~horsepower+I(horsepower^2),data=data,subset=index))\n",
        "set.seed(1)\n",
        "boot(Auto,boot.fn,1000)\n",
        "summary(lm(mpg~horsepower+I(horsepower^2),data=Auto))$coef\n"
      ],
      "execution_count": 12,
      "outputs": [
        {
          "output_type": "display_data",
          "data": {
            "text/plain": [
              "(Intercept)  horsepower \n",
              " 39.9358610  -0.1578447 "
            ],
            "text/latex": "\\begin{description*}\n\\item[(Intercept)] 39.9358610211705\n\\item[horsepower] -0.157844733353654\n\\end{description*}\n",
            "text/markdown": "(Intercept)\n:   39.9358610211705horsepower\n:   -0.157844733353654\n\n",
            "text/html": [
              "<style>\n",
              ".dl-inline {width: auto; margin:0; padding: 0}\n",
              ".dl-inline>dt, .dl-inline>dd {float: none; width: auto; display: inline-block}\n",
              ".dl-inline>dt::after {content: \":\\0020\"; padding-right: .5ex}\n",
              ".dl-inline>dt:not(:first-of-type) {padding-left: .5ex}\n",
              "</style><dl class=dl-inline><dt>(Intercept)</dt><dd>39.9358610211705</dd><dt>horsepower</dt><dd>-0.157844733353654</dd></dl>\n"
            ]
          },
          "metadata": {
            "tags": []
          }
        },
        {
          "output_type": "display_data",
          "data": {
            "text/plain": [
              "(Intercept)  horsepower \n",
              " 40.3404517  -0.1634868 "
            ],
            "text/latex": "\\begin{description*}\n\\item[(Intercept)] 40.3404516830189\n\\item[horsepower] -0.163486837689938\n\\end{description*}\n",
            "text/markdown": "(Intercept)\n:   40.3404516830189horsepower\n:   -0.163486837689938\n\n",
            "text/html": [
              "<style>\n",
              ".dl-inline {width: auto; margin:0; padding: 0}\n",
              ".dl-inline>dt, .dl-inline>dd {float: none; width: auto; display: inline-block}\n",
              ".dl-inline>dt::after {content: \":\\0020\"; padding-right: .5ex}\n",
              ".dl-inline>dt:not(:first-of-type) {padding-left: .5ex}\n",
              "</style><dl class=dl-inline><dt>(Intercept)</dt><dd>40.3404516830189</dd><dt>horsepower</dt><dd>-0.163486837689938</dd></dl>\n"
            ]
          },
          "metadata": {
            "tags": []
          }
        },
        {
          "output_type": "display_data",
          "data": {
            "text/plain": [
              "(Intercept)  horsepower \n",
              " 40.1186906  -0.1577063 "
            ],
            "text/latex": "\\begin{description*}\n\\item[(Intercept)] 40.1186906449022\n\\item[horsepower] -0.157706320543503\n\\end{description*}\n",
            "text/markdown": "(Intercept)\n:   40.1186906449022horsepower\n:   -0.157706320543503\n\n",
            "text/html": [
              "<style>\n",
              ".dl-inline {width: auto; margin:0; padding: 0}\n",
              ".dl-inline>dt, .dl-inline>dd {float: none; width: auto; display: inline-block}\n",
              ".dl-inline>dt::after {content: \":\\0020\"; padding-right: .5ex}\n",
              ".dl-inline>dt:not(:first-of-type) {padding-left: .5ex}\n",
              "</style><dl class=dl-inline><dt>(Intercept)</dt><dd>40.1186906449022</dd><dt>horsepower</dt><dd>-0.157706320543503</dd></dl>\n"
            ]
          },
          "metadata": {
            "tags": []
          }
        },
        {
          "output_type": "display_data",
          "data": {
            "text/plain": [
              "\n",
              "ORDINARY NONPARAMETRIC BOOTSTRAP\n",
              "\n",
              "\n",
              "Call:\n",
              "boot(data = Auto, statistic = boot.fn, R = 1000)\n",
              "\n",
              "\n",
              "Bootstrap Statistics :\n",
              "      original        bias    std. error\n",
              "t1* 39.9358610  0.0544513229 0.841289790\n",
              "t2* -0.1578447 -0.0006170901 0.007343073"
            ]
          },
          "metadata": {
            "tags": []
          }
        },
        {
          "output_type": "display_data",
          "data": {
            "text/plain": [
              "            Estimate   Std. Error  t value   Pr(>|t|)     \n",
              "(Intercept) 39.9358610 0.717498656  55.65984 1.220362e-187\n",
              "horsepower  -0.1578447 0.006445501 -24.48914  7.031989e-81"
            ],
            "text/latex": "A matrix: 2 × 4 of type dbl\n\\begin{tabular}{r|llll}\n  & Estimate & Std. Error & t value & Pr(>\\textbar{}t\\textbar{})\\\\\n\\hline\n\t(Intercept) & 39.9358610 & 0.717498656 &  55.65984 & 1.220362e-187\\\\\n\thorsepower & -0.1578447 & 0.006445501 & -24.48914 &  7.031989e-81\\\\\n\\end{tabular}\n",
            "text/markdown": "\nA matrix: 2 × 4 of type dbl\n\n| <!--/--> | Estimate | Std. Error | t value | Pr(&gt;|t|) |\n|---|---|---|---|---|\n| (Intercept) | 39.9358610 | 0.717498656 |  55.65984 | 1.220362e-187 |\n| horsepower | -0.1578447 | 0.006445501 | -24.48914 |  7.031989e-81 |\n\n",
            "text/html": [
              "<table>\n",
              "<caption>A matrix: 2 × 4 of type dbl</caption>\n",
              "<thead>\n",
              "\t<tr><th></th><th scope=col>Estimate</th><th scope=col>Std. Error</th><th scope=col>t value</th><th scope=col>Pr(&gt;|t|)</th></tr>\n",
              "</thead>\n",
              "<tbody>\n",
              "\t<tr><th scope=row>(Intercept)</th><td>39.9358610</td><td>0.717498656</td><td> 55.65984</td><td>1.220362e-187</td></tr>\n",
              "\t<tr><th scope=row>horsepower</th><td>-0.1578447</td><td>0.006445501</td><td>-24.48914</td><td> 7.031989e-81</td></tr>\n",
              "</tbody>\n",
              "</table>\n"
            ]
          },
          "metadata": {
            "tags": []
          }
        },
        {
          "output_type": "display_data",
          "data": {
            "text/plain": [
              "\n",
              "ORDINARY NONPARAMETRIC BOOTSTRAP\n",
              "\n",
              "\n",
              "Call:\n",
              "boot(data = Auto, statistic = boot.fn, R = 1000)\n",
              "\n",
              "\n",
              "Bootstrap Statistics :\n",
              "        original        bias     std. error\n",
              "t1* 56.900099702  3.511640e-02 2.0300222526\n",
              "t2* -0.466189630 -7.080834e-04 0.0324241984\n",
              "t3*  0.001230536  2.840324e-06 0.0001172164"
            ]
          },
          "metadata": {
            "tags": []
          }
        },
        {
          "output_type": "display_data",
          "data": {
            "text/plain": [
              "                Estimate     Std. Error   t value   Pr(>|t|)     \n",
              "(Intercept)     56.900099702 1.8004268063  31.60367 1.740911e-109\n",
              "horsepower      -0.466189630 0.0311246171 -14.97816  2.289429e-40\n",
              "I(horsepower^2)  0.001230536 0.0001220759  10.08009  2.196340e-21"
            ],
            "text/latex": "A matrix: 3 × 4 of type dbl\n\\begin{tabular}{r|llll}\n  & Estimate & Std. Error & t value & Pr(>\\textbar{}t\\textbar{})\\\\\n\\hline\n\t(Intercept) & 56.900099702 & 1.8004268063 &  31.60367 & 1.740911e-109\\\\\n\thorsepower & -0.466189630 & 0.0311246171 & -14.97816 &  2.289429e-40\\\\\n\tI(horsepower\\textasciicircum{}2) &  0.001230536 & 0.0001220759 &  10.08009 &  2.196340e-21\\\\\n\\end{tabular}\n",
            "text/markdown": "\nA matrix: 3 × 4 of type dbl\n\n| <!--/--> | Estimate | Std. Error | t value | Pr(&gt;|t|) |\n|---|---|---|---|---|\n| (Intercept) | 56.900099702 | 1.8004268063 |  31.60367 | 1.740911e-109 |\n| horsepower | -0.466189630 | 0.0311246171 | -14.97816 |  2.289429e-40 |\n| I(horsepower^2) |  0.001230536 | 0.0001220759 |  10.08009 |  2.196340e-21 |\n\n",
            "text/html": [
              "<table>\n",
              "<caption>A matrix: 3 × 4 of type dbl</caption>\n",
              "<thead>\n",
              "\t<tr><th></th><th scope=col>Estimate</th><th scope=col>Std. Error</th><th scope=col>t value</th><th scope=col>Pr(&gt;|t|)</th></tr>\n",
              "</thead>\n",
              "<tbody>\n",
              "\t<tr><th scope=row>(Intercept)</th><td>56.900099702</td><td>1.8004268063</td><td> 31.60367</td><td>1.740911e-109</td></tr>\n",
              "\t<tr><th scope=row>horsepower</th><td>-0.466189630</td><td>0.0311246171</td><td>-14.97816</td><td> 2.289429e-40</td></tr>\n",
              "\t<tr><th scope=row>I(horsepower^2)</th><td> 0.001230536</td><td>0.0001220759</td><td> 10.08009</td><td> 2.196340e-21</td></tr>\n",
              "</tbody>\n",
              "</table>\n"
            ]
          },
          "metadata": {
            "tags": []
          }
        }
      ]
    },
    {
      "cell_type": "code",
      "metadata": {
        "id": "aJ_WLvxk9SpD"
      },
      "source": [
        ""
      ],
      "execution_count": null,
      "outputs": []
    }
  ]
}